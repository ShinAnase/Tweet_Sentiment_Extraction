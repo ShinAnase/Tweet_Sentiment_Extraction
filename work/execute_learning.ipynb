{
 "cells": [
  {
   "cell_type": "code",
   "execution_count": 7,
   "metadata": {},
   "outputs": [],
   "source": [
    "import pandas as pd\n",
    "import numpy as np\n",
    "import tensorflow as tf\n",
    "\n",
    "from keras.layers import Dense, Input, LSTM, Embedding, Dropout, Activation\n",
    "from keras.layers import Bidirectional, GlobalMaxPool1D,Bidirectional\n",
    "from keras.models import Model\n",
    "from keras.layers import TimeDistributed\n",
    "from keras.layers import concatenate\n",
    "from keras.layers import Dense, Input\n",
    "from keras.optimizers import Adam\n",
    "from keras.models import Model\n",
    "from keras.layers import CuDNNLSTM\n",
    "import gc\n",
    "import os"
   ]
  },
  {
   "cell_type": "markdown",
   "metadata": {},
   "source": [
    "# Data loading"
   ]
  },
  {
   "cell_type": "code",
   "execution_count": 8,
   "metadata": {},
   "outputs": [],
   "source": [
    "x_train = np.load('/home/tidal/ML_Data/Tweet_Sentiment_Extraction/features/x_train.npy')\n",
    "x_test = np.load('/home/tidal/ML_Data/Tweet_Sentiment_Extraction/features/x_test.npy')\n",
    "sent_train = np.load('/home/tidal/ML_Data/Tweet_Sentiment_Extraction/features/sent_train.npy')\n",
    "sent_test = np.load('/home/tidal/ML_Data/Tweet_Sentiment_Extraction/features/sent_test.npy')\n",
    "targets = np.load('/home/tidal/ML_Data/Tweet_Sentiment_Extraction/targets/targets.npy')\n",
    "embedding_matrix_ = np.load('/home/tidal/ML_Data/Tweet_Sentiment_Extraction/transformer_layer/embedding_matrix.npy')"
   ]
  },
  {
   "cell_type": "code",
   "execution_count": 9,
   "metadata": {},
   "outputs": [
    {
     "data": {
      "text/plain": [
       "array([[-0.01664949, -0.06661227, -0.01632868, ..., -0.01999032,\n",
       "        -0.05139988, -0.0263568 ],\n",
       "       [-0.01319846, -0.06733431, -0.01605646, ..., -0.0226614 ,\n",
       "        -0.05537301, -0.02600443],\n",
       "       [-0.01759106, -0.07094341, -0.01443494, ..., -0.02457913,\n",
       "        -0.05956192, -0.0231829 ],\n",
       "       ...,\n",
       "       [-0.0231029 , -0.05878259, -0.01048967, ..., -0.01945743,\n",
       "        -0.02615411, -0.02118432],\n",
       "       [-0.0490171 , -0.05614787, -0.00465348, ..., -0.01065376,\n",
       "        -0.01797333, -0.02187675],\n",
       "       [-0.00646111, -0.0914881 , -0.00254872, ..., -0.01505679,\n",
       "        -0.05040044,  0.04597744]], dtype=float32)"
      ]
     },
     "execution_count": 9,
     "metadata": {},
     "output_type": "execute_result"
    }
   ],
   "source": [
    "embedding_matrix_"
   ]
  },
  {
   "cell_type": "markdown",
   "metadata": {},
   "source": [
    "# Fitting"
   ]
  },
  {
   "cell_type": "code",
   "execution_count": 12,
   "metadata": {},
   "outputs": [],
   "source": [
    "def new_model(embedding_matrix):\n",
    "    \n",
    "    inp = Input(shape=(128, ))\n",
    "    inp2= Input(shape=(1,))\n",
    "\n",
    "    x = Embedding(embedding_matrix.shape[0], embedding_matrix.shape[1],weights=[embedding_matrix],trainable=False)(inp)\n",
    "\n",
    "    x = CuDNNLSTM(150, return_sequences=True,name='lstm_layer',)(x)\n",
    "    x = CuDNNLSTM(100, return_sequences=False,name='lstm_layer-2',)(x)\n",
    "    \n",
    "    y =Dense(10,activation='relu')(inp2)\n",
    "    x= concatenate([x,y])\n",
    "    \n",
    "    x = Dense(108,activation='sigmoid')(x)\n",
    "\n",
    "    model = Model(inputs=[inp,inp2], outputs=x)\n",
    "\n",
    "    model.compile(loss='binary_crossentropy',\n",
    "                      optimizer='adam')\n",
    "\n",
    "\n",
    "    print(model.summary())\n",
    "    \n",
    "    return model"
   ]
  },
  {
   "cell_type": "code",
   "execution_count": 13,
   "metadata": {},
   "outputs": [
    {
     "name": "stdout",
     "output_type": "stream",
     "text": [
      "__________________________________________________________________________________________________\n",
      "Layer (type)                    Output Shape         Param #     Connected to                     \n",
      "==================================================================================================\n",
      "input_3 (InputLayer)            (None, 128)          0                                            \n",
      "__________________________________________________________________________________________________\n",
      "embedding_2 (Embedding)         (None, 128, 768)     23440896    input_3[0][0]                    \n",
      "__________________________________________________________________________________________________\n",
      "lstm_layer (CuDNNLSTM)          (None, 128, 150)     552000      embedding_2[0][0]                \n",
      "__________________________________________________________________________________________________\n",
      "input_4 (InputLayer)            (None, 1)            0                                            \n",
      "__________________________________________________________________________________________________\n",
      "lstm_layer-2 (CuDNNLSTM)        (None, 100)          100800      lstm_layer[0][0]                 \n",
      "__________________________________________________________________________________________________\n",
      "dense_2 (Dense)                 (None, 10)           20          input_4[0][0]                    \n",
      "__________________________________________________________________________________________________\n",
      "concatenate_2 (Concatenate)     (None, 110)          0           lstm_layer-2[0][0]               \n",
      "                                                                 dense_2[0][0]                    \n",
      "__________________________________________________________________________________________________\n",
      "dense_3 (Dense)                 (None, 108)          11988       concatenate_2[0][0]              \n",
      "==================================================================================================\n",
      "Total params: 24,105,704\n",
      "Trainable params: 664,808\n",
      "Non-trainable params: 23,440,896\n",
      "__________________________________________________________________________________________________\n",
      "None\n",
      "Epoch 1/5\n",
      "27486/27486 [==============================] - 19s 690us/step - loss: 0.1979\n",
      "Epoch 2/5\n",
      "27486/27486 [==============================] - 14s 503us/step - loss: 0.1804\n",
      "Epoch 3/5\n",
      "27486/27486 [==============================] - 14s 498us/step - loss: 0.1709\n",
      "Epoch 4/5\n",
      "27486/27486 [==============================] - 14s 510us/step - loss: 0.1670\n",
      "Epoch 5/5\n",
      "27486/27486 [==============================] - 14s 506us/step - loss: 0.1660\n",
      "CPU times: user 1min 20s, sys: 2.84 s, total: 1min 23s\n",
      "Wall time: 1min 15s\n"
     ]
    }
   ],
   "source": [
    "%%time\n",
    "model=new_model(embedding_matrix_)\n",
    "history=model.fit([x_train,sent_train],targets,epochs=5)"
   ]
  },
  {
   "cell_type": "markdown",
   "metadata": {},
   "source": [
    "# 予測"
   ]
  },
  {
   "cell_type": "code",
   "execution_count": 15,
   "metadata": {},
   "outputs": [
    {
     "data": {
      "text/plain": [
       "array([[3.6077330e-01, 3.1452057e-01, 2.9378951e-01, ..., 5.9793198e-05,\n",
       "        1.8074645e-05, 1.3610380e-05],\n",
       "       [3.6077330e-01, 3.1452057e-01, 2.9378951e-01, ..., 5.9793198e-05,\n",
       "        1.8074645e-05, 1.3610380e-05],\n",
       "       [3.6077330e-01, 3.1452057e-01, 2.9378951e-01, ..., 5.9793198e-05,\n",
       "        1.8074645e-05, 1.3610380e-05],\n",
       "       ...,\n",
       "       [8.9440459e-01, 8.9249814e-01, 8.8508898e-01, ..., 6.7184250e-05,\n",
       "        2.3783450e-05, 2.5969539e-05],\n",
       "       [3.6249286e-01, 3.7569320e-01, 3.5771811e-01, ..., 7.0778646e-05,\n",
       "        2.7334312e-05, 4.2572170e-05],\n",
       "       [8.9440459e-01, 8.9249814e-01, 8.8508898e-01, ..., 6.7184250e-05,\n",
       "        2.3783450e-05, 2.5969539e-05]], dtype=float32)"
      ]
     },
     "execution_count": 15,
     "metadata": {},
     "output_type": "execute_result"
    }
   ],
   "source": [
    "predictions=model.predict([x_test,sent_test])\n",
    "predictions"
   ]
  },
  {
   "cell_type": "code",
   "execution_count": 16,
   "metadata": {},
   "outputs": [],
   "source": [
    "##update in next commit\n",
    "\n",
    "def convert_output(sub,predictions):\n",
    "    preds=[]\n",
    "    for i,row in enumerate(sub['text']):\n",
    "\n",
    "        text,target=row.lower(),predictions[i].tolist()\n",
    "        target=np.round(target).tolist()\n",
    "        try:\n",
    "            start,end=target.index(1),target[::-1].index(1)\n",
    "            text_list=tokenizer.tokenize(text)\n",
    "            text_list=text_list+((108-len(text_list))*['pad'])\n",
    "            print(text_list[108-end])\n",
    "            pred=' '.join([x for x in text_list[start:-end]])\n",
    "        except:\n",
    "            pred=text\n",
    "        \n",
    "        preds.append(pred)\n",
    "        \n",
    "    return preds"
   ]
  },
  {
   "cell_type": "code",
   "execution_count": 18,
   "metadata": {},
   "outputs": [
    {
     "data": {
      "text/plain": [
       "3535"
      ]
     },
     "execution_count": 18,
     "metadata": {},
     "output_type": "execute_result"
    }
   ],
   "source": [
    "test = pd.read_csv('/home/tidal/ML_Data/Tweet_Sentiment_Extraction/test.csv')\n",
    "prediction_text=convert_output(test,predictions)\n",
    "len(prediction_text)"
   ]
  },
  {
   "cell_type": "code",
   "execution_count": 23,
   "metadata": {},
   "outputs": [
    {
     "data": {
      "text/html": [
       "<div>\n",
       "<style scoped>\n",
       "    .dataframe tbody tr th:only-of-type {\n",
       "        vertical-align: middle;\n",
       "    }\n",
       "\n",
       "    .dataframe tbody tr th {\n",
       "        vertical-align: top;\n",
       "    }\n",
       "\n",
       "    .dataframe thead th {\n",
       "        text-align: right;\n",
       "    }\n",
       "</style>\n",
       "<table border=\"1\" class=\"dataframe\">\n",
       "  <thead>\n",
       "    <tr style=\"text-align: right;\">\n",
       "      <th></th>\n",
       "      <th>textID</th>\n",
       "      <th>selected_text</th>\n",
       "    </tr>\n",
       "  </thead>\n",
       "  <tbody>\n",
       "    <tr>\n",
       "      <th>0</th>\n",
       "      <td>11aa4945ff</td>\n",
       "      <td>http://twitpic.com/67swx - i wish i was calli...</td>\n",
       "    </tr>\n",
       "    <tr>\n",
       "      <th>1</th>\n",
       "      <td>fd1db57dc0</td>\n",
       "      <td>i'm done.haha. house md marathon ulet</td>\n",
       "    </tr>\n",
       "    <tr>\n",
       "      <th>2</th>\n",
       "      <td>2524332d66</td>\n",
       "      <td>i'm concerned for that family</td>\n",
       "    </tr>\n",
       "    <tr>\n",
       "      <th>3</th>\n",
       "      <td>0fb19285b2</td>\n",
       "      <td>hey guys it's working no need to worry. i have...</td>\n",
       "    </tr>\n",
       "    <tr>\n",
       "      <th>4</th>\n",
       "      <td>e6c9e5e3ab</td>\n",
       "      <td>26th february</td>\n",
       "    </tr>\n",
       "  </tbody>\n",
       "</table>\n",
       "</div>"
      ],
      "text/plain": [
       "       textID                                      selected_text\n",
       "0  11aa4945ff   http://twitpic.com/67swx - i wish i was calli...\n",
       "1  fd1db57dc0              i'm done.haha. house md marathon ulet\n",
       "2  2524332d66                      i'm concerned for that family\n",
       "3  0fb19285b2  hey guys it's working no need to worry. i have...\n",
       "4  e6c9e5e3ab                                      26th february"
      ]
     },
     "execution_count": 23,
     "metadata": {},
     "output_type": "execute_result"
    }
   ],
   "source": [
    "sub=pd.read_csv(\"/home/tidal/ML_Data/Tweet_Sentiment_Extraction/sample_submission.csv\")\n",
    "sub['selected_text']=prediction_text\n",
    "sub.to_csv('/home/tidal/ML_Data/Tweet_Sentiment_Extraction/submit/submission.csv',index=False)\n",
    "sub.head()"
   ]
  },
  {
   "cell_type": "code",
   "execution_count": null,
   "metadata": {},
   "outputs": [],
   "source": []
  }
 ],
 "metadata": {
  "kernelspec": {
   "display_name": "TensorFlow-GPU",
   "language": "python",
   "name": "tf-gpu"
  },
  "language_info": {
   "codemirror_mode": {
    "name": "ipython",
    "version": 3
   },
   "file_extension": ".py",
   "mimetype": "text/x-python",
   "name": "python",
   "nbconvert_exporter": "python",
   "pygments_lexer": "ipython3",
   "version": "3.6.9"
  }
 },
 "nbformat": 4,
 "nbformat_minor": 4
}
